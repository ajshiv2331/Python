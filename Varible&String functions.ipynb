{
 "cells": [
  {
   "cell_type": "code",
   "execution_count": 1,
   "id": "3d3244b7",
   "metadata": {},
   "outputs": [
    {
     "name": "stdout",
     "output_type": "stream",
     "text": [
      "hello\n"
     ]
    }
   ],
   "source": [
    "print(\"hello\")"
   ]
  },
  {
   "cell_type": "code",
   "execution_count": 2,
   "id": "a409290b",
   "metadata": {},
   "outputs": [
    {
     "name": "stdout",
     "output_type": "stream",
     "text": [
      "ak/aj/as\n"
     ]
    }
   ],
   "source": [
    "print(\"ak/aj/as\")"
   ]
  },
  {
   "cell_type": "code",
   "execution_count": 3,
   "id": "cd87dabb",
   "metadata": {},
   "outputs": [
    {
     "name": "stdout",
     "output_type": "stream",
     "text": [
      "ak\u0007j\u0007s\n"
     ]
    }
   ],
   "source": [
    "print(\"ak\\aj\\as\")"
   ]
  },
  {
   "cell_type": "code",
   "execution_count": 4,
   "id": "f5ccae75",
   "metadata": {},
   "outputs": [
    {
     "name": "stdout",
     "output_type": "stream",
     "text": [
      "ak/naj/nas\n"
     ]
    }
   ],
   "source": [
    "print(\"ak/naj/nas\")"
   ]
  },
  {
   "cell_type": "code",
   "execution_count": 5,
   "id": "d2038b7e",
   "metadata": {},
   "outputs": [
    {
     "name": "stdout",
     "output_type": "stream",
     "text": [
      "ak\n",
      "hello\n",
      "aj\n"
     ]
    }
   ],
   "source": [
    "print(\"ak\\nhello\\naj\")"
   ]
  },
  {
   "cell_type": "code",
   "execution_count": 6,
   "id": "ec91e151",
   "metadata": {},
   "outputs": [
    {
     "name": "stdout",
     "output_type": "stream",
     "text": [
      "ak\taj\tmj\n"
     ]
    }
   ],
   "source": [
    "print(\"ak\\taj\\tmj\")"
   ]
  },
  {
   "cell_type": "code",
   "execution_count": 7,
   "id": "5100eaee",
   "metadata": {},
   "outputs": [
    {
     "name": "stdout",
     "output_type": "stream",
     "text": [
      "welcome to nanded\n"
     ]
    }
   ],
   "source": [
    "print(\"welcome to nanded\")"
   ]
  },
  {
   "cell_type": "code",
   "execution_count": 8,
   "id": "f40a59a1",
   "metadata": {},
   "outputs": [
    {
     "name": "stdout",
     "output_type": "stream",
     "text": [
      "welcome to nanded\n"
     ]
    }
   ],
   "source": [
    "a = \"welcome to nanded\"\n",
    "print(a)"
   ]
  },
  {
   "cell_type": "code",
   "execution_count": 9,
   "id": "12a7352d",
   "metadata": {},
   "outputs": [],
   "source": [
    "#a is variable and variable = values\n",
    "#variable should not start with number\n",
    "#varible should not strat with any special character\n",
    "a_ = \"test\""
   ]
  },
  {
   "cell_type": "code",
   "execution_count": 10,
   "id": "12854bdf",
   "metadata": {},
   "outputs": [
    {
     "name": "stdout",
     "output_type": "stream",
     "text": [
      "test\n"
     ]
    }
   ],
   "source": [
    "a= \"test\"\n",
    "print(a)\n"
   ]
  },
  {
   "cell_type": "code",
   "execution_count": 15,
   "id": "87d6cfb7",
   "metadata": {},
   "outputs": [
    {
     "name": "stdout",
     "output_type": "stream",
     "text": [
      "SachinTendlukar\n",
      "<class 'str'>\n",
      "True\n"
     ]
    }
   ],
   "source": [
    "#data type\n",
    "#string\n",
    "a=\"SachinTendlukar\"\n",
    "print(a)\n",
    "print(type(a))\n",
    "print(isinstance(a,str))  #isinstance it meanse asking it true or false"
   ]
  },
  {
   "cell_type": "code",
   "execution_count": 12,
   "id": "8f331e9f",
   "metadata": {},
   "outputs": [
    {
     "name": "stdout",
     "output_type": "stream",
     "text": [
      "15\n"
     ]
    }
   ],
   "source": [
    "print(len(a))"
   ]
  },
  {
   "cell_type": "code",
   "execution_count": 16,
   "id": "dade974f",
   "metadata": {},
   "outputs": [
    {
     "name": "stdout",
     "output_type": "stream",
     "text": [
      "S\n"
     ]
    }
   ],
   "source": [
    "print(min(a))"
   ]
  },
  {
   "cell_type": "code",
   "execution_count": 17,
   "id": "78ef88f2",
   "metadata": {},
   "outputs": [
    {
     "name": "stdout",
     "output_type": "stream",
     "text": [
      "['S', 'T', 'a', 'a', 'c', 'd', 'e', 'h', 'i', 'k', 'l', 'n', 'n', 'r', 'u']\n"
     ]
    }
   ],
   "source": [
    "print(sorted(a))"
   ]
  },
  {
   "cell_type": "code",
   "execution_count": 18,
   "id": "6138eda2",
   "metadata": {},
   "outputs": [
    {
     "name": "stdout",
     "output_type": "stream",
     "text": [
      "sachintendlukar\n",
      "SACHINTENDLUKAR\n",
      "sACHINtENDLUKAR\n"
     ]
    }
   ],
   "source": [
    "print(a.lower())\n",
    "print(a.upper())\n",
    "print(a.swapcase())"
   ]
  },
  {
   "cell_type": "code",
   "execution_count": 19,
   "id": "a931f41f",
   "metadata": {},
   "outputs": [
    {
     "name": "stdout",
     "output_type": "stream",
     "text": [
      "True\n"
     ]
    }
   ],
   "source": [
    "a=\"sachintendulakar\"\n",
    "print(a.islower())"
   ]
  },
  {
   "cell_type": "code",
   "execution_count": 20,
   "id": "06e95ed8",
   "metadata": {},
   "outputs": [
    {
     "name": "stdout",
     "output_type": "stream",
     "text": [
      "True\n"
     ]
    }
   ],
   "source": [
    "a=\"SACHINTENDULKAR\"\n",
    "print(a.isupper())"
   ]
  },
  {
   "cell_type": "code",
   "execution_count": 21,
   "id": "8c229a2b",
   "metadata": {},
   "outputs": [
    {
     "name": "stdout",
     "output_type": "stream",
     "text": [
      "False\n"
     ]
    }
   ],
   "source": [
    "a=\"sachintendulakar123\"\n",
    "print(a.isalpha())"
   ]
  },
  {
   "cell_type": "code",
   "execution_count": 23,
   "id": "7a913b5c",
   "metadata": {},
   "outputs": [
    {
     "name": "stdout",
     "output_type": "stream",
     "text": [
      "True\n"
     ]
    }
   ],
   "source": [
    "a=\"1334\"\n",
    "print(a.isdigit())"
   ]
  },
  {
   "cell_type": "code",
   "execution_count": 24,
   "id": "fde6d1d7",
   "metadata": {},
   "outputs": [
    {
     "name": "stdout",
     "output_type": "stream",
     "text": [
      "True\n"
     ]
    }
   ],
   "source": [
    "a=\"sachintendulakar\"\n",
    "print(a.isalpha())"
   ]
  },
  {
   "cell_type": "code",
   "execution_count": 25,
   "id": "219b4149",
   "metadata": {},
   "outputs": [
    {
     "name": "stdout",
     "output_type": "stream",
     "text": [
      "True\n"
     ]
    }
   ],
   "source": [
    "a=\"sachintendulakar123\"\n",
    "print(a.isalnum())"
   ]
  },
  {
   "cell_type": "code",
   "execution_count": 27,
   "id": "c7e2e207",
   "metadata": {},
   "outputs": [
    {
     "name": "stdout",
     "output_type": "stream",
     "text": [
      "True\n",
      "True\n"
     ]
    }
   ],
   "source": [
    "a=\"sachintendulakr\"\n",
    "print(a.startswith(\"s\"))\n",
    "print(a.endswith(\"r\"))"
   ]
  },
  {
   "cell_type": "code",
   "execution_count": 28,
   "id": "31508eb0",
   "metadata": {},
   "outputs": [
    {
     "name": "stdout",
     "output_type": "stream",
     "text": [
      "S$chin Tendul$k$r\n",
      "S$chin Tendulakar\n"
     ]
    }
   ],
   "source": [
    "a=\"Sachin Tendulakar\"\n",
    "print(a.replace(\"a\",\"$\"))\n",
    "print(a.replace(\"a\",\"$\",1))"
   ]
  },
  {
   "cell_type": "code",
   "execution_count": 29,
   "id": "727500b5",
   "metadata": {},
   "outputs": [
    {
     "name": "stdout",
     "output_type": "stream",
     "text": [
      "2\n"
     ]
    }
   ],
   "source": [
    "a='Sachin Tendulkar'\n",
    "print(a.count(\"a\"))"
   ]
  },
  {
   "cell_type": "code",
   "execution_count": 31,
   "id": "e29e6355",
   "metadata": {},
   "outputs": [
    {
     "name": "stdout",
     "output_type": "stream",
     "text": [
      "['S', 'chin Tendulk', 'r']\n",
      "['S', 'chin Tendulkar']\n"
     ]
    }
   ],
   "source": [
    "a=\"Sachin Tendulkar\"\n",
    "print(a.split(\"a\"))\n",
    "\n",
    "print(a.split(\"a\",1))"
   ]
  },
  {
   "cell_type": "code",
   "execution_count": 32,
   "id": "02600d4d",
   "metadata": {},
   "outputs": [
    {
     "name": "stdout",
     "output_type": "stream",
     "text": [
      "AJ\n"
     ]
    },
    {
     "data": {
      "text/plain": [
       "'AJ'"
      ]
     },
     "execution_count": 32,
     "metadata": {},
     "output_type": "execute_result"
    }
   ],
   "source": [
    "input()"
   ]
  },
  {
   "cell_type": "code",
   "execution_count": 33,
   "id": "dc541860",
   "metadata": {},
   "outputs": [
    {
     "name": "stdout",
     "output_type": "stream",
     "text": [
      "Enter somethingsj\n"
     ]
    }
   ],
   "source": [
    "a=input(\"Enter something\")\n"
   ]
  },
  {
   "cell_type": "code",
   "execution_count": 34,
   "id": "43441fdc",
   "metadata": {},
   "outputs": [
    {
     "name": "stdout",
     "output_type": "stream",
     "text": [
      "sj\n"
     ]
    }
   ],
   "source": [
    "print(a)"
   ]
  },
  {
   "cell_type": "code",
   "execution_count": null,
   "id": "c42a669f",
   "metadata": {},
   "outputs": [],
   "source": [
    "#1\n",
    "#a=\"welcome to nanded guys\"\n",
    "#output=\"welcometonandedguys\"\n",
    "#2 get input from user and check it is alphabet or not\n",
    "#3"
   ]
  }
 ],
 "metadata": {
  "kernelspec": {
   "display_name": "Python 3 (ipykernel)",
   "language": "python",
   "name": "python3"
  },
  "language_info": {
   "codemirror_mode": {
    "name": "ipython",
    "version": 3
   },
   "file_extension": ".py",
   "mimetype": "text/x-python",
   "name": "python",
   "nbconvert_exporter": "python",
   "pygments_lexer": "ipython3",
   "version": "3.9.12"
  }
 },
 "nbformat": 4,
 "nbformat_minor": 5
}
