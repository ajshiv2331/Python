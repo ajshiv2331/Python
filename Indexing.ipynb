{
 "cells": [
  {
   "cell_type": "code",
   "execution_count": 1,
   "id": "aee7ea95",
   "metadata": {},
   "outputs": [
    {
     "name": "stdout",
     "output_type": "stream",
     "text": [
      "dhoni\n"
     ]
    }
   ],
   "source": [
    "a = \"dhoni\"\n",
    "print(a)"
   ]
  },
  {
   "cell_type": "code",
   "execution_count": 2,
   "id": "8ec1b056",
   "metadata": {},
   "outputs": [
    {
     "name": "stdout",
     "output_type": "stream",
     "text": [
      "S\n",
      "n\n"
     ]
    }
   ],
   "source": [
    "#indexing\n",
    "a =\"SachinTendulkar\"\n",
    "print(a[0])\n",
    "print(a[5])"
   ]
  },
  {
   "cell_type": "code",
   "execution_count": 3,
   "id": "d847427c",
   "metadata": {},
   "outputs": [
    {
     "name": "stdout",
     "output_type": "stream",
     "text": [
      "Sachi\n",
      "nTend\n"
     ]
    }
   ],
   "source": [
    "#start:end\n",
    "print(a[0:5])\n",
    "print(a[5:10])"
   ]
  },
  {
   "cell_type": "code",
   "execution_count": 4,
   "id": "60212993",
   "metadata": {},
   "outputs": [
    {
     "name": "stdout",
     "output_type": "stream",
     "text": [
      "SachinTendulkar\n",
      "SachinTendulkar\n",
      "SciTnukr\n",
      "ShTdk\n"
     ]
    }
   ],
   "source": [
    "#start:end:interval\n",
    "print(a[:])\n",
    "print(a[::1])\n",
    "print(a[::2])\n",
    "print(a[::3])"
   ]
  },
  {
   "cell_type": "code",
   "execution_count": 5,
   "id": "80d3fa21",
   "metadata": {},
   "outputs": [
    {
     "name": "stdout",
     "output_type": "stream",
     "text": [
      "r\n"
     ]
    }
   ],
   "source": [
    "print(a[14])"
   ]
  },
  {
   "cell_type": "code",
   "execution_count": 6,
   "id": "0bdcb8ab",
   "metadata": {},
   "outputs": [
    {
     "ename": "IndexError",
     "evalue": "string index out of range",
     "output_type": "error",
     "traceback": [
      "\u001b[1;31m---------------------------------------------------------------------------\u001b[0m",
      "\u001b[1;31mIndexError\u001b[0m                                Traceback (most recent call last)",
      "Input \u001b[1;32mIn [6]\u001b[0m, in \u001b[0;36m<cell line: 3>\u001b[1;34m()\u001b[0m\n\u001b[0;32m      1\u001b[0m \u001b[38;5;66;03m#but\u001b[39;00m\n\u001b[0;32m      2\u001b[0m a\u001b[38;5;241m=\u001b[39m\u001b[38;5;124m\"\u001b[39m\u001b[38;5;124mdhoni\u001b[39m\u001b[38;5;124m\"\u001b[39m\n\u001b[1;32m----> 3\u001b[0m \u001b[38;5;28mprint\u001b[39m(\u001b[43ma\u001b[49m\u001b[43m[\u001b[49m\u001b[38;5;241;43m14\u001b[39;49m\u001b[43m]\u001b[49m)\n",
      "\u001b[1;31mIndexError\u001b[0m: string index out of range"
     ]
    }
   ],
   "source": [
    "#but\n",
    "a=\"dhoni\"\n",
    "print(a[14])"
   ]
  },
  {
   "cell_type": "code",
   "execution_count": 7,
   "id": "9c36d435",
   "metadata": {},
   "outputs": [
    {
     "name": "stdout",
     "output_type": "stream",
     "text": [
      "i\n"
     ]
    }
   ],
   "source": [
    "print(a[-1])"
   ]
  },
  {
   "cell_type": "code",
   "execution_count": 8,
   "id": "914a6312",
   "metadata": {},
   "outputs": [
    {
     "name": "stdout",
     "output_type": "stream",
     "text": [
      "r\n"
     ]
    }
   ],
   "source": [
    "a=\"SachinTendulkar\"\n",
    "print(a[-1])"
   ]
  },
  {
   "cell_type": "code",
   "execution_count": 9,
   "id": "bc165f2c",
   "metadata": {},
   "outputs": [
    {
     "name": "stdout",
     "output_type": "stream",
     "text": [
      "rakludneTnihcaS\n"
     ]
    }
   ],
   "source": [
    "print(a[::-1])"
   ]
  },
  {
   "cell_type": "code",
   "execution_count": 10,
   "id": "2dfdacb7",
   "metadata": {},
   "outputs": [
    {
     "name": "stdout",
     "output_type": "stream",
     "text": [
      "rkunTicS\n"
     ]
    }
   ],
   "source": [
    "print(a[::-2])"
   ]
  },
  {
   "cell_type": "code",
   "execution_count": 11,
   "id": "423b43b9",
   "metadata": {},
   "outputs": [
    {
     "name": "stdout",
     "output_type": "stream",
     "text": [
      "6\n",
      "1\n",
      "13\n"
     ]
    }
   ],
   "source": [
    "#index is based upon a value which position\n",
    "print(a.index(\"T\"))\n",
    "print(a.index(\"a\"))\n",
    "print(a.index(\"a\",2)) #if you want second a then 2 used for ignore henc first 2 is ignored"
   ]
  },
  {
   "cell_type": "code",
   "execution_count": 12,
   "id": "af5687bd",
   "metadata": {},
   "outputs": [
    {
     "name": "stdout",
     "output_type": "stream",
     "text": [
      "10\n"
     ]
    }
   ],
   "source": [
    "#r index used for last occurene\n",
    "a=\"Virat Kohli\"             #last pasun\n",
    "print(a.rindex(\"i\"))"
   ]
  },
  {
   "cell_type": "code",
   "execution_count": 16,
   "id": "0d8e77aa",
   "metadata": {},
   "outputs": [
    {
     "name": "stdout",
     "output_type": "stream",
     "text": [
      "1\n",
      "6\n",
      "12\n"
     ]
    }
   ],
   "source": [
    "a =\"Virat i kohli\"\n",
    "print(a.index(\"i\"))\n",
    "print(a.index(\"i\",2))\n",
    "print(a.index(\"i\",7))\n"
   ]
  },
  {
   "cell_type": "code",
   "execution_count": 17,
   "id": "2007f561",
   "metadata": {},
   "outputs": [
    {
     "name": "stdout",
     "output_type": "stream",
     "text": [
      "12\n"
     ]
    }
   ],
   "source": [
    "#but if you want to count last i\n",
    "print(a.rindex(\"i\"))"
   ]
  },
  {
   "cell_type": "code",
   "execution_count": 19,
   "id": "731d1f92",
   "metadata": {},
   "outputs": [
    {
     "ename": "ValueError",
     "evalue": "substring not found",
     "output_type": "error",
     "traceback": [
      "\u001b[1;31m---------------------------------------------------------------------------\u001b[0m",
      "\u001b[1;31mValueError\u001b[0m                                Traceback (most recent call last)",
      "Input \u001b[1;32mIn [19]\u001b[0m, in \u001b[0;36m<cell line: 5>\u001b[1;34m()\u001b[0m\n\u001b[0;32m      1\u001b[0m \u001b[38;5;66;03m#if you give space it will be count\u001b[39;00m\n\u001b[0;32m      2\u001b[0m \u001b[38;5;66;03m#now you have to know about index and find\u001b[39;00m\n\u001b[0;32m      3\u001b[0m \u001b[38;5;66;03m##\u001b[39;00m\n\u001b[0;32m      4\u001b[0m a \u001b[38;5;241m=\u001b[39m \u001b[38;5;124m\"\u001b[39m\u001b[38;5;124mSachinTendulkar\u001b[39m\u001b[38;5;124m\"\u001b[39m\n\u001b[1;32m----> 5\u001b[0m \u001b[38;5;28mprint\u001b[39m(\u001b[43ma\u001b[49m\u001b[38;5;241;43m.\u001b[39;49m\u001b[43mindex\u001b[49m\u001b[43m(\u001b[49m\u001b[38;5;124;43m\"\u001b[39;49m\u001b[38;5;124;43mz\u001b[39;49m\u001b[38;5;124;43m\"\u001b[39;49m\u001b[43m)\u001b[49m)\n",
      "\u001b[1;31mValueError\u001b[0m: substring not found"
     ]
    }
   ],
   "source": [
    "#if you give space it will be count\n",
    "#now you have to know about index and find\n",
    "##\n",
    "a = \"SachinTendulkar\"\n",
    "print(a.index(\"z\"))  #it gives you substring not found"
   ]
  },
  {
   "cell_type": "code",
   "execution_count": 20,
   "id": "ea556abc",
   "metadata": {},
   "outputs": [
    {
     "name": "stdout",
     "output_type": "stream",
     "text": [
      "-1\n"
     ]
    }
   ],
   "source": [
    "print(a.find(\"z\"))  #-1 will be false"
   ]
  },
  {
   "cell_type": "code",
   "execution_count": 21,
   "id": "8a70c57e",
   "metadata": {},
   "outputs": [
    {
     "name": "stdout",
     "output_type": "stream",
     "text": [
      "5\n",
      "5\n"
     ]
    }
   ],
   "source": [
    "print(a.index(\"n\"))\n",
    "print(a.find('n'))"
   ]
  },
  {
   "cell_type": "code",
   "execution_count": 22,
   "id": "ee8cf019",
   "metadata": {},
   "outputs": [
    {
     "name": "stdout",
     "output_type": "stream",
     "text": [
      "-1\n"
     ]
    }
   ],
   "source": [
    "print(a.rfind(\"z\"))"
   ]
  },
  {
   "cell_type": "code",
   "execution_count": 23,
   "id": "7e1be237",
   "metadata": {},
   "outputs": [
    {
     "name": "stdout",
     "output_type": "stream",
     "text": [
      "hi hello\n"
     ]
    }
   ],
   "source": [
    "#Strip is remove space\n",
    "a = \" hi hello \"\n",
    "print(a.strip())   #its remove first space and end space"
   ]
  },
  {
   "cell_type": "code",
   "execution_count": 24,
   "id": "9b88315d",
   "metadata": {},
   "outputs": [
    {
     "name": "stdout",
     "output_type": "stream",
     "text": [
      " hi hello\n"
     ]
    }
   ],
   "source": [
    "print(a.rstrip()) #its remove first space"
   ]
  },
  {
   "cell_type": "code",
   "execution_count": 25,
   "id": "550231fd",
   "metadata": {},
   "outputs": [
    {
     "name": "stdout",
     "output_type": "stream",
     "text": [
      "hi hello \n"
     ]
    }
   ],
   "source": [
    "print(a.lstrip()) #its remove last space"
   ]
  },
  {
   "cell_type": "code",
   "execution_count": 26,
   "id": "79a6c202",
   "metadata": {},
   "outputs": [
    {
     "name": "stdout",
     "output_type": "stream",
     "text": [
      "welcometonandedguys\n"
     ]
    }
   ],
   "source": [
    "#a=\"welcome to nanded guys\"\n",
    "#output=\"welcometonandedguys\"\n",
    "a = \"welcome to nanded guys\"\n",
    "print(a.replace(\" \",\"\"))"
   ]
  },
  {
   "cell_type": "code",
   "execution_count": 27,
   "id": "bd5bd992",
   "metadata": {},
   "outputs": [
    {
     "name": "stdout",
     "output_type": "stream",
     "text": [
      "Enter a wordakshay\n",
      "True\n"
     ]
    }
   ],
   "source": [
    "#2 get input from user and check it is alphabet or not\n",
    "a = input(\"Enter a word\")\n",
    "print(a.isalpha())"
   ]
  },
  {
   "cell_type": "code",
   "execution_count": null,
   "id": "2cc1b8c4",
   "metadata": {},
   "outputs": [],
   "source": [
    "#a= \"dhoni\" \n",
    "## get last letter i - without using reverse index [-1]"
   ]
  }
 ],
 "metadata": {
  "kernelspec": {
   "display_name": "Python 3 (ipykernel)",
   "language": "python",
   "name": "python3"
  },
  "language_info": {
   "codemirror_mode": {
    "name": "ipython",
    "version": 3
   },
   "file_extension": ".py",
   "mimetype": "text/x-python",
   "name": "python",
   "nbconvert_exporter": "python",
   "pygments_lexer": "ipython3",
   "version": "3.9.12"
  }
 },
 "nbformat": 4,
 "nbformat_minor": 5
}
