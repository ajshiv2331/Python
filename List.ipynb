{
 "cells": [
  {
   "cell_type": "code",
   "execution_count": null,
   "id": "d75cdc42",
   "metadata": {},
   "outputs": [],
   "source": [
    "###\n",
    "name=\"Akshay\"\n",
    "age =23\n",
    "location =\"Nanded\"\n"
   ]
  },
  {
   "cell_type": "code",
   "execution_count": null,
   "id": "d2de76eb",
   "metadata": {},
   "outputs": [],
   "source": [
    "name1=\"Shivani\"\n",
    "age1=18\n",
    "location1=\"Pune\"\n"
   ]
  },
  {
   "cell_type": "code",
   "execution_count": 5,
   "id": "3f8543b7",
   "metadata": {},
   "outputs": [
    {
     "name": "stdout",
     "output_type": "stream",
     "text": [
      "3\n",
      "Nanded\n",
      "23\n",
      "<class 'list'>\n",
      "['23', 'Akshay', 'Nanded']\n"
     ]
    }
   ],
   "source": [
    "a = [[\"Akshay\",\"23\",\"Nanded\"] ,[\"Shivani\", \"18\", \"Pune\"]]\n",
    "a = [\"Akshay\",\"23\",\"Nanded\"]\n",
    "# len, max,min,sorted\n",
    "print (len(a))\n",
    "print(max(a))\n",
    "print(min(a))\n",
    "print(type(a))\n",
    "print(sorted(a))"
   ]
  },
  {
   "cell_type": "code",
   "execution_count": 6,
   "id": "d250ca04",
   "metadata": {},
   "outputs": [
    {
     "name": "stdout",
     "output_type": "stream",
     "text": [
      "<class 'list'>\n"
     ]
    }
   ],
   "source": [
    "print(type(a))"
   ]
  },
  {
   "cell_type": "code",
   "execution_count": 7,
   "id": "5e946605",
   "metadata": {},
   "outputs": [
    {
     "name": "stdout",
     "output_type": "stream",
     "text": [
      "Akshay\n"
     ]
    }
   ],
   "source": [
    "print(a[0])"
   ]
  },
  {
   "cell_type": "code",
   "execution_count": 8,
   "id": "a1732846",
   "metadata": {},
   "outputs": [
    {
     "name": "stdout",
     "output_type": "stream",
     "text": [
      "Nanded\n"
     ]
    }
   ],
   "source": [
    "print(a[-1])"
   ]
  },
  {
   "cell_type": "code",
   "execution_count": 9,
   "id": "d802cd79",
   "metadata": {},
   "outputs": [
    {
     "ename": "TypeError",
     "evalue": "'<' not supported between instances of 'int' and 'str'",
     "output_type": "error",
     "traceback": [
      "\u001b[1;31m---------------------------------------------------------------------------\u001b[0m",
      "\u001b[1;31mTypeError\u001b[0m                                 Traceback (most recent call last)",
      "Input \u001b[1;32mIn [9]\u001b[0m, in \u001b[0;36m<cell line: 2>\u001b[1;34m()\u001b[0m\n\u001b[0;32m      1\u001b[0m a \u001b[38;5;241m=\u001b[39m [\u001b[38;5;124m\"\u001b[39m\u001b[38;5;124mAkshay\u001b[39m\u001b[38;5;124m\"\u001b[39m,\u001b[38;5;241m23\u001b[39m,\u001b[38;5;124m\"\u001b[39m\u001b[38;5;124mNanded\u001b[39m\u001b[38;5;124m\"\u001b[39m]\n\u001b[1;32m----> 2\u001b[0m \u001b[38;5;28mprint\u001b[39m(\u001b[38;5;28;43msorted\u001b[39;49m\u001b[43m(\u001b[49m\u001b[43ma\u001b[49m\u001b[43m)\u001b[49m)\n",
      "\u001b[1;31mTypeError\u001b[0m: '<' not supported between instances of 'int' and 'str'"
     ]
    }
   ],
   "source": [
    "a = [\"Akshay\",23,\"Nanded\"]\n",
    "print(sorted(a))"
   ]
  },
  {
   "cell_type": "code",
   "execution_count": 10,
   "id": "6ef02b1b",
   "metadata": {},
   "outputs": [
    {
     "name": "stdout",
     "output_type": "stream",
     "text": [
      "['Nanded', 23, 'Akshay']\n"
     ]
    }
   ],
   "source": [
    "print(a[::-1])"
   ]
  },
  {
   "cell_type": "code",
   "execution_count": 11,
   "id": "fdf8830b",
   "metadata": {},
   "outputs": [
    {
     "name": "stdout",
     "output_type": "stream",
     "text": [
      "[1, 2, 3, 4, 5, 10]\n"
     ]
    }
   ],
   "source": [
    "#append add in last by default\n",
    "a =[1,2,3,4,5]\n",
    "a.append(10)\n",
    "print(a)\n"
   ]
  },
  {
   "cell_type": "code",
   "execution_count": 20,
   "id": "b1cb03c4",
   "metadata": {},
   "outputs": [
    {
     "name": "stdout",
     "output_type": "stream",
     "text": [
      "[1, 2, 'hello', 3, 4, 5]\n"
     ]
    }
   ],
   "source": [
    "a =[1,2,3,4,5]\n",
    "a.insert(2,\"hello\")\n",
    "print(a)"
   ]
  },
  {
   "cell_type": "code",
   "execution_count": 28,
   "id": "5afaf92b",
   "metadata": {},
   "outputs": [
    {
     "name": "stdout",
     "output_type": "stream",
     "text": [
      "['hello', 1, 2, 3, 4, 5]\n"
     ]
    }
   ],
   "source": [
    "a =[1,2,3,4,5]\n",
    "a.insert(0,\"hello\")\n",
    "print(a)"
   ]
  },
  {
   "cell_type": "code",
   "execution_count": 23,
   "id": "f58daaae",
   "metadata": {},
   "outputs": [
    {
     "name": "stdout",
     "output_type": "stream",
     "text": [
      "[1, 2, 3, 4, 5]\n"
     ]
    }
   ],
   "source": [
    "a.remove(\"hello\")\n",
    "print(a)    #it will remove first hello"
   ]
  },
  {
   "cell_type": "code",
   "execution_count": 24,
   "id": "6c6e8f62",
   "metadata": {},
   "outputs": [
    {
     "name": "stdout",
     "output_type": "stream",
     "text": [
      "[2, 3, 4, 5]\n"
     ]
    }
   ],
   "source": [
    "del a[0]\n",
    "print(a)"
   ]
  },
  {
   "cell_type": "code",
   "execution_count": 26,
   "id": "10b2d016",
   "metadata": {},
   "outputs": [
    {
     "name": "stdout",
     "output_type": "stream",
     "text": [
      "[1, 2, 3, 4, 5, 'hello', 10]\n"
     ]
    }
   ],
   "source": [
    "a = [1,2,3,4,5,\"hello\"]\n",
    "a.append(10)\n",
    "print(a)"
   ]
  },
  {
   "cell_type": "code",
   "execution_count": 31,
   "id": "f497240f",
   "metadata": {},
   "outputs": [
    {
     "name": "stdout",
     "output_type": "stream",
     "text": [
      "['hello', 2, 3, 4, 5, 'hello', 10]\n"
     ]
    }
   ],
   "source": [
    "a =[2,3,4,5,\"hello\",10]\n",
    "a.insert(0,\"hello\")\n",
    "print(a)"
   ]
  },
  {
   "cell_type": "code",
   "execution_count": 32,
   "id": "0bcda9f8",
   "metadata": {},
   "outputs": [
    {
     "name": "stdout",
     "output_type": "stream",
     "text": [
      "['hello', 2, 3, 4, 5, 'hello', 10]\n"
     ]
    }
   ],
   "source": [
    "print(a)"
   ]
  },
  {
   "cell_type": "code",
   "execution_count": 33,
   "id": "c3dda675",
   "metadata": {},
   "outputs": [
    {
     "name": "stdout",
     "output_type": "stream",
     "text": [
      "['hello', 2, 3, 4, 5, 'hello']\n",
      "10\n"
     ]
    }
   ],
   "source": [
    "b = a.pop()\n",
    "print(a)\n",
    "print(b)\n",
    "#last value will be gone pop take and give it someone thatis pop"
   ]
  },
  {
   "cell_type": "code",
   "execution_count": 34,
   "id": "d59da5fb",
   "metadata": {},
   "outputs": [
    {
     "name": "stdout",
     "output_type": "stream",
     "text": [
      "['hello', 2, 3, 4, 5, 'hello']\n",
      "['hello', 2, 3, 5, 'hello']\n",
      "4\n"
     ]
    }
   ],
   "source": [
    "#pop:particular value will be gone\n",
    "print(a)\n",
    "b = a.pop(3)  #pop 3 it meanse 4 ko remove kiya (delete is destroy)\n",
    "print(a)  \n",
    "print(b)   #4"
   ]
  },
  {
   "cell_type": "code",
   "execution_count": null,
   "id": "ab97fb50",
   "metadata": {},
   "outputs": [],
   "source": [
    "a =[\"Akshay\",\"Jadhav\",\"Patil\"]\n",
    "#get first list first word -a\n",
    "#get first list last word -n\n",
    "#get last  last first word -k\n",
    "#get last last last word -e\n",
    "#also get  list as input from user and check the data type"
   ]
  }
 ],
 "metadata": {
  "kernelspec": {
   "display_name": "Python 3 (ipykernel)",
   "language": "python",
   "name": "python3"
  },
  "language_info": {
   "codemirror_mode": {
    "name": "ipython",
    "version": 3
   },
   "file_extension": ".py",
   "mimetype": "text/x-python",
   "name": "python",
   "nbconvert_exporter": "python",
   "pygments_lexer": "ipython3",
   "version": "3.9.12"
  }
 },
 "nbformat": 4,
 "nbformat_minor": 5
}
